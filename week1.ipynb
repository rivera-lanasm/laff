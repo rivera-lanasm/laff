{
 "cells": [
  {
   "cell_type": "markdown",
   "id": "8f117ec2",
   "metadata": {},
   "source": [
    "\n",
    "apt-get update\n",
    "apt install git-all\n",
    "\n",
    "\n",
    "nohup jupyter notebook --ip 0.0.0.0 --allow-root --no-browser > test.log &"
   ]
  },
  {
   "cell_type": "code",
   "execution_count": null,
   "id": "86439c71",
   "metadata": {},
   "outputs": [],
   "source": []
  },
  {
   "cell_type": "code",
   "execution_count": null,
   "id": "da98da8c",
   "metadata": {},
   "outputs": [],
   "source": []
  },
  {
   "cell_type": "code",
   "execution_count": null,
   "id": "3fce18e3",
   "metadata": {},
   "outputs": [],
   "source": []
  },
  {
   "cell_type": "code",
   "execution_count": null,
   "id": "f3f8f0a8",
   "metadata": {},
   "outputs": [],
   "source": []
  }
 ],
 "metadata": {
  "kernelspec": {
   "display_name": "Python 3",
   "language": "python",
   "name": "python3"
  },
  "language_info": {
   "codemirror_mode": {
    "name": "ipython",
    "version": 3
   },
   "file_extension": ".py",
   "mimetype": "text/x-python",
   "name": "python",
   "nbconvert_exporter": "python",
   "pygments_lexer": "ipython3",
   "version": "3.6.9"
  }
 },
 "nbformat": 4,
 "nbformat_minor": 5
}
